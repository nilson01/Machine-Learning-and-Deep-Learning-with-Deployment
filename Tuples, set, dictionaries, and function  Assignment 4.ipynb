{
 "cells": [
  {
   "cell_type": "markdown",
   "metadata": {},
   "source": [
    "### 1.1 \n",
    "Write a Python Program(with class concepts) to find the area of the triangle using the below formula.\n",
    "$\n",
    "area = (s * (s-a) * (s-b) * (s-c))^(1/2)\n",
    "$\n",
    "\n",
    "Function to take the length of the sides of triangle from user should be defined in the parent class and function to calculate the area should be defined in subclass."
   ]
  },
  {
   "cell_type": "code",
   "execution_count": 18,
   "metadata": {},
   "outputs": [],
   "source": [
    "class Length:\n",
    "    def __init__(self):\n",
    "        self.length = int(input(\"Enter the length of the sides of the triangle: \"))\n",
    "    \n",
    "    def __str__(self):\n",
    "        return \"The length is %d.\" \\\n",
    "                % (self.length)"
   ]
  },
  {
   "cell_type": "code",
   "execution_count": 19,
   "metadata": {},
   "outputs": [],
   "source": [
    " \n",
    "class Area(Length):\n",
    "    def __init__(self,*args):\n",
    "        super().__init__(*args)\n",
    "        self.area = self.length * self.length\n",
    "    def __str__(self):\n",
    "        return \"Length :\" + str(self.length) + \" Area :\"+ str(self.area)"
   ]
  },
  {
   "cell_type": "code",
   "execution_count": 20,
   "metadata": {},
   "outputs": [
    {
     "name": "stdout",
     "output_type": "stream",
     "text": [
      "Enter the length of the sides of the triangle: 3\n"
     ]
    },
    {
     "data": {
      "text/plain": [
       "'Length :3 Area :9'"
      ]
     },
     "execution_count": 20,
     "metadata": {},
     "output_type": "execute_result"
    }
   ],
   "source": [
    "area = Area()\n",
    "str(area)"
   ]
  },
  {
   "cell_type": "markdown",
   "metadata": {},
   "source": [
    "### 1.2 \n",
    "Write a function filter_long_words() that takes a list of words and an integer n and returns the list of words that are longer than n.\n"
   ]
  },
  {
   "cell_type": "code",
   "execution_count": 10,
   "metadata": {},
   "outputs": [
    {
     "name": "stdout",
     "output_type": "stream",
     "text": [
      "['abgrec', 'avbtc', 'abteec']\n"
     ]
    }
   ],
   "source": [
    "def filter_long_words(lst, n):\n",
    "    for i in lst:\n",
    "        if(len(i)<=n):\n",
    "            lst.remove(i)\n",
    "        else:\n",
    "            continue\n",
    "    return lst\n",
    "\n",
    "lst = [\"af\",\"abgrec\",\"afbc\",\"avbtc\",\"abc\",\"abteec\"]\n",
    "result = filter_long_words(lst, 4)\n",
    "print(result)"
   ]
  },
  {
   "cell_type": "markdown",
   "metadata": {},
   "source": [
    "### 2.1 \n",
    "Write a Python program using function concept that maps list of words into a list of integers representing the lengths of the corresponding words.\n",
    "Hint: If a list [ ab,cde,erty] is passed on to the python function output should come as [2,3,4] Here 2,3 and 4 are the lengths of the words in the list."
   ]
  },
  {
   "cell_type": "code",
   "execution_count": 5,
   "metadata": {},
   "outputs": [
    {
     "data": {
      "text/plain": [
       "[2, 3, 4]"
      ]
     },
     "execution_count": 5,
     "metadata": {},
     "output_type": "execute_result"
    }
   ],
   "source": [
    "def map_length(lst):\n",
    "    for i in range(len(lst)):\n",
    "        lst[i] = len(lst[i])\n",
    "    return lst\n",
    "\n",
    "lst = ['ab','cde','erty'] \n",
    "res = map_length(lst)\n",
    "res"
   ]
  },
  {
   "cell_type": "markdown",
   "metadata": {},
   "source": [
    "### 2.2 \n",
    "Write a Python function which takes a character (i.e. a string of length 1) and returns True if it is a vowel, False otherwise."
   ]
  },
  {
   "cell_type": "code",
   "execution_count": 10,
   "metadata": {
    "scrolled": true
   },
   "outputs": [
    {
     "name": "stdout",
     "output_type": "stream",
     "text": [
      "True\n",
      "False\n"
     ]
    }
   ],
   "source": [
    "def vowel_recog(v):\n",
    "    l = ['a','e','i','o','u']\n",
    "    return v in l\n",
    "\n",
    "print(vowel_recog('a'))\n",
    "print(vowel_recog('b'))"
   ]
  },
  {
   "cell_type": "markdown",
   "metadata": {},
   "source": [
    "  "
   ]
  }
 ],
 "metadata": {
  "kernelspec": {
   "display_name": "Python 3",
   "language": "python",
   "name": "python3"
  },
  "language_info": {
   "codemirror_mode": {
    "name": "ipython",
    "version": 3
   },
   "file_extension": ".py",
   "mimetype": "text/x-python",
   "name": "python",
   "nbconvert_exporter": "python",
   "pygments_lexer": "ipython3",
   "version": "3.7.6"
  }
 },
 "nbformat": 4,
 "nbformat_minor": 4
}
